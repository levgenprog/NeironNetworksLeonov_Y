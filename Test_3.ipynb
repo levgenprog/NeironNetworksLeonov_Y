{
  "cells": [
    {
      "cell_type": "markdown",
      "id": "adc86bb4",
      "metadata": {
        "id": "adc86bb4"
      },
      "source": [
        "## Task 1 (10 Points)"
      ]
    },
    {
      "cell_type": "markdown",
      "id": "cd0f95af",
      "metadata": {
        "id": "cd0f95af"
      },
      "source": [
        "Select padding sizes:"
      ]
    },
    {
      "cell_type": "code",
      "execution_count": null,
      "id": "4c02095a",
      "metadata": {
        "id": "4c02095a",
        "colab": {
          "base_uri": "https://localhost:8080/"
        },
        "outputId": "d1a79be1-b24e-4623-e962-b69e0d733dea"
      },
      "outputs": [
        {
          "output_type": "stream",
          "name": "stdout",
          "text": [
            "torch.Size([4, 10, 8, 16])\n"
          ]
        }
      ],
      "source": [
        "import torch\n",
        "\n",
        "N = 4\n",
        "C = 3\n",
        "C_out = 10\n",
        "H = 8\n",
        "W = 16\n",
        "\n",
        "x = torch.ones((N, C, H, W))\n",
        "\n",
        "# torch.Size([4, 10, 8, 16])\n",
        "out1 = torch.nn.Conv2d(C, C_out, kernel_size=(3, 3), padding=1)(x)\n",
        "# print(out1.shape) # for self-test\n",
        "\n",
        "# torch.Size([4, 10, 8, 16])\n",
        "out2 = torch.nn.Conv2d(C, C_out, kernel_size=(5, 5), padding=2)(x)\n",
        "# print(out2.shape) # for self-test\n",
        "\n",
        "# torch.Size([4, 10, 8, 16])\n",
        "out3 = torch.nn.Conv2d(C, C_out, kernel_size=(7, 7), padding=3)(x)\n",
        "# print(out3.shape) # for self-test\n",
        "\n",
        "# torch.Size([4, 10, 8, 16])\n",
        "out4 = torch.nn.Conv2d(C, C_out, kernel_size=(9, 9), padding=4)(x)\n",
        "#print(out4.shape) # for self-test\n",
        "\n",
        "# torch.Size([4, 10, 8, 16])\n",
        "out5 = torch.nn.Conv2d(C, C_out, kernel_size=(3, 5), padding=(1, 2))(x)\n",
        "#print(out5.shape) # for self-test\n",
        "\n",
        "# torch.Size([4, 10, 22, 30])\n",
        "out6 = torch.nn.Conv2d(C, C_out, kernel_size=(3, 3), padding=1)(x)\n",
        "#print(out6.shape) # for self-test\n",
        "\n",
        "# torch.Size([4, 10, 7, 15])\n",
        "out7 = torch.nn.Conv2d(C, C_out, kernel_size=(4, 4), padding=1)(x)\n",
        "#print(out7.shape) # for self-test\n",
        "\n",
        "# torch.Size([4, 10, 9, 17])\n",
        "out8 = torch.nn.Conv2d(C, C_out, kernel_size=(2, 2), padding=0)(x)\n",
        "#print(out8.shape) # for self-test"
      ]
    },
    {
      "cell_type": "markdown",
      "id": "bbddd3a4",
      "metadata": {
        "id": "bbddd3a4"
      },
      "source": [
        "## Task 2 (40 Points)"
      ]
    },
    {
      "cell_type": "markdown",
      "id": "e9d419f0",
      "metadata": {
        "id": "e9d419f0"
      },
      "source": [
        "Develop an architecture according to the data from the article.\n",
        "To test the functionality, test your architecture on any suitable data set.\n",
        "\n",
        "![](https://miro.medium.com/v2/resize:fit:1400/format:webp/1*y87bqk95D-IndWdHM_K9-g.png)\n",
        "![](https://miro.medium.com/v2/resize:fit:4800/format:webp/1*XQGAKZb8kjoF_1lSXeIQxg.png)"
      ]
    },
    {
      "cell_type": "markdown",
      "id": "79b2e17a",
      "metadata": {
        "id": "79b2e17a"
      },
      "source": [
        "## Step 0. Data preparation."
      ]
    },
    {
      "cell_type": "code",
      "execution_count": 1,
      "id": "083be64e",
      "metadata": {
        "id": "083be64e",
        "colab": {
          "base_uri": "https://localhost:8080/",
          "height": 90
        },
        "outputId": "838c4673-45d7-4e14-e3b5-52f73d8b28c8"
      },
      "outputs": [
        {
          "output_type": "display_data",
          "data": {
            "text/plain": [
              "<IPython.core.display.HTML object>"
            ],
            "text/html": [
              "\n",
              "     <input type=\"file\" id=\"files-caef34a6-109f-447d-a7b3-f357de95fcd1\" name=\"files[]\" multiple disabled\n",
              "        style=\"border:none\" />\n",
              "     <output id=\"result-caef34a6-109f-447d-a7b3-f357de95fcd1\">\n",
              "      Upload widget is only available when the cell has been executed in the\n",
              "      current browser session. Please rerun this cell to enable.\n",
              "      </output>\n",
              "      <script>// Copyright 2017 Google LLC\n",
              "//\n",
              "// Licensed under the Apache License, Version 2.0 (the \"License\");\n",
              "// you may not use this file except in compliance with the License.\n",
              "// You may obtain a copy of the License at\n",
              "//\n",
              "//      http://www.apache.org/licenses/LICENSE-2.0\n",
              "//\n",
              "// Unless required by applicable law or agreed to in writing, software\n",
              "// distributed under the License is distributed on an \"AS IS\" BASIS,\n",
              "// WITHOUT WARRANTIES OR CONDITIONS OF ANY KIND, either express or implied.\n",
              "// See the License for the specific language governing permissions and\n",
              "// limitations under the License.\n",
              "\n",
              "/**\n",
              " * @fileoverview Helpers for google.colab Python module.\n",
              " */\n",
              "(function(scope) {\n",
              "function span(text, styleAttributes = {}) {\n",
              "  const element = document.createElement('span');\n",
              "  element.textContent = text;\n",
              "  for (const key of Object.keys(styleAttributes)) {\n",
              "    element.style[key] = styleAttributes[key];\n",
              "  }\n",
              "  return element;\n",
              "}\n",
              "\n",
              "// Max number of bytes which will be uploaded at a time.\n",
              "const MAX_PAYLOAD_SIZE = 100 * 1024;\n",
              "\n",
              "function _uploadFiles(inputId, outputId) {\n",
              "  const steps = uploadFilesStep(inputId, outputId);\n",
              "  const outputElement = document.getElementById(outputId);\n",
              "  // Cache steps on the outputElement to make it available for the next call\n",
              "  // to uploadFilesContinue from Python.\n",
              "  outputElement.steps = steps;\n",
              "\n",
              "  return _uploadFilesContinue(outputId);\n",
              "}\n",
              "\n",
              "// This is roughly an async generator (not supported in the browser yet),\n",
              "// where there are multiple asynchronous steps and the Python side is going\n",
              "// to poll for completion of each step.\n",
              "// This uses a Promise to block the python side on completion of each step,\n",
              "// then passes the result of the previous step as the input to the next step.\n",
              "function _uploadFilesContinue(outputId) {\n",
              "  const outputElement = document.getElementById(outputId);\n",
              "  const steps = outputElement.steps;\n",
              "\n",
              "  const next = steps.next(outputElement.lastPromiseValue);\n",
              "  return Promise.resolve(next.value.promise).then((value) => {\n",
              "    // Cache the last promise value to make it available to the next\n",
              "    // step of the generator.\n",
              "    outputElement.lastPromiseValue = value;\n",
              "    return next.value.response;\n",
              "  });\n",
              "}\n",
              "\n",
              "/**\n",
              " * Generator function which is called between each async step of the upload\n",
              " * process.\n",
              " * @param {string} inputId Element ID of the input file picker element.\n",
              " * @param {string} outputId Element ID of the output display.\n",
              " * @return {!Iterable<!Object>} Iterable of next steps.\n",
              " */\n",
              "function* uploadFilesStep(inputId, outputId) {\n",
              "  const inputElement = document.getElementById(inputId);\n",
              "  inputElement.disabled = false;\n",
              "\n",
              "  const outputElement = document.getElementById(outputId);\n",
              "  outputElement.innerHTML = '';\n",
              "\n",
              "  const pickedPromise = new Promise((resolve) => {\n",
              "    inputElement.addEventListener('change', (e) => {\n",
              "      resolve(e.target.files);\n",
              "    });\n",
              "  });\n",
              "\n",
              "  const cancel = document.createElement('button');\n",
              "  inputElement.parentElement.appendChild(cancel);\n",
              "  cancel.textContent = 'Cancel upload';\n",
              "  const cancelPromise = new Promise((resolve) => {\n",
              "    cancel.onclick = () => {\n",
              "      resolve(null);\n",
              "    };\n",
              "  });\n",
              "\n",
              "  // Wait for the user to pick the files.\n",
              "  const files = yield {\n",
              "    promise: Promise.race([pickedPromise, cancelPromise]),\n",
              "    response: {\n",
              "      action: 'starting',\n",
              "    }\n",
              "  };\n",
              "\n",
              "  cancel.remove();\n",
              "\n",
              "  // Disable the input element since further picks are not allowed.\n",
              "  inputElement.disabled = true;\n",
              "\n",
              "  if (!files) {\n",
              "    return {\n",
              "      response: {\n",
              "        action: 'complete',\n",
              "      }\n",
              "    };\n",
              "  }\n",
              "\n",
              "  for (const file of files) {\n",
              "    const li = document.createElement('li');\n",
              "    li.append(span(file.name, {fontWeight: 'bold'}));\n",
              "    li.append(span(\n",
              "        `(${file.type || 'n/a'}) - ${file.size} bytes, ` +\n",
              "        `last modified: ${\n",
              "            file.lastModifiedDate ? file.lastModifiedDate.toLocaleDateString() :\n",
              "                                    'n/a'} - `));\n",
              "    const percent = span('0% done');\n",
              "    li.appendChild(percent);\n",
              "\n",
              "    outputElement.appendChild(li);\n",
              "\n",
              "    const fileDataPromise = new Promise((resolve) => {\n",
              "      const reader = new FileReader();\n",
              "      reader.onload = (e) => {\n",
              "        resolve(e.target.result);\n",
              "      };\n",
              "      reader.readAsArrayBuffer(file);\n",
              "    });\n",
              "    // Wait for the data to be ready.\n",
              "    let fileData = yield {\n",
              "      promise: fileDataPromise,\n",
              "      response: {\n",
              "        action: 'continue',\n",
              "      }\n",
              "    };\n",
              "\n",
              "    // Use a chunked sending to avoid message size limits. See b/62115660.\n",
              "    let position = 0;\n",
              "    do {\n",
              "      const length = Math.min(fileData.byteLength - position, MAX_PAYLOAD_SIZE);\n",
              "      const chunk = new Uint8Array(fileData, position, length);\n",
              "      position += length;\n",
              "\n",
              "      const base64 = btoa(String.fromCharCode.apply(null, chunk));\n",
              "      yield {\n",
              "        response: {\n",
              "          action: 'append',\n",
              "          file: file.name,\n",
              "          data: base64,\n",
              "        },\n",
              "      };\n",
              "\n",
              "      let percentDone = fileData.byteLength === 0 ?\n",
              "          100 :\n",
              "          Math.round((position / fileData.byteLength) * 100);\n",
              "      percent.textContent = `${percentDone}% done`;\n",
              "\n",
              "    } while (position < fileData.byteLength);\n",
              "  }\n",
              "\n",
              "  // All done.\n",
              "  yield {\n",
              "    response: {\n",
              "      action: 'complete',\n",
              "    }\n",
              "  };\n",
              "}\n",
              "\n",
              "scope.google = scope.google || {};\n",
              "scope.google.colab = scope.google.colab || {};\n",
              "scope.google.colab._files = {\n",
              "  _uploadFiles,\n",
              "  _uploadFilesContinue,\n",
              "};\n",
              "})(self);\n",
              "</script> "
            ]
          },
          "metadata": {}
        },
        {
          "output_type": "stream",
          "name": "stdout",
          "text": [
            "Saving kaggle.json to kaggle.json\n"
          ]
        },
        {
          "output_type": "execute_result",
          "data": {
            "text/plain": [
              "{'kaggle.json': b'{\"username\":\"yevgeniyleonov\",\"key\":\"b9d7e9d003cd28f916d25b07abc141d3\"}'}"
            ]
          },
          "metadata": {},
          "execution_count": 1
        }
      ],
      "source": [
        "from google.colab import files\n",
        "files.upload()"
      ]
    },
    {
      "cell_type": "code",
      "source": [
        "import os\n",
        "!rm -r ~/.kaggle\n",
        "!mkdir ~/.kaggle\n",
        "!mv ./kaggle.json ~/.kaggle/\n",
        "!chmod 600 ~/.kaggle/kaggle.json\n",
        "!kaggle datasets download -d jessicali9530/stanford-cars-dataset\n",
        "\n",
        "import zipfile\n",
        "zip_ref = zipfile.ZipFile('stanford-cars-dataset.zip', 'r')\n",
        "zip_ref.extractall('/cars')\n",
        "zip_ref.close()\n",
        "\n",
        "print(os.listdir('/cars'))"
      ],
      "metadata": {
        "colab": {
          "base_uri": "https://localhost:8080/"
        },
        "id": "ORPBCUEizQJK",
        "outputId": "29ba3911-d5b2-43d1-ecf6-906b419ffe5a"
      },
      "id": "ORPBCUEizQJK",
      "execution_count": 3,
      "outputs": [
        {
          "output_type": "stream",
          "name": "stdout",
          "text": [
            "mv: cannot stat './kaggle.json': No such file or directory\n",
            "chmod: cannot access '/root/.kaggle/kaggle.json': No such file or directory\n",
            "Traceback (most recent call last):\n",
            "  File \"/usr/local/bin/kaggle\", line 5, in <module>\n",
            "    from kaggle.cli import main\n",
            "  File \"/usr/local/lib/python3.10/dist-packages/kaggle/__init__.py\", line 23, in <module>\n",
            "    api.authenticate()\n",
            "  File \"/usr/local/lib/python3.10/dist-packages/kaggle/api/kaggle_api_extended.py\", line 403, in authenticate\n",
            "    raise IOError('Could not find {}. Make sure it\\'s located in'\n",
            "OSError: Could not find kaggle.json. Make sure it's located in /root/.kaggle. Or use the environment method.\n",
            "['cars_annos.mat', 'cars_test', 'cars_train']\n"
          ]
        }
      ]
    },
    {
      "cell_type": "code",
      "source": [
        "import torch\n",
        "from torchvision import datasets, transforms\n",
        "from torch.utils.data import random_split, DataLoader\n",
        "\n",
        "def load_data(batch_size=32):\n",
        "    # Define transformations\n",
        "    transform = transforms.Compose([\n",
        "        transforms.Resize((258, 258)),\n",
        "        transforms.ToTensor(),\n",
        "        transforms.Normalize((0.5, 0.5, 0.5), (0.5, 0.5, 0.5))\n",
        "    ])\n",
        "\n",
        "    # Load datasets using ImageFolder\n",
        "    train_dataset = datasets.ImageFolder(root='/cars/cars_train/', transform=transform)\n",
        "    test_dataset = datasets.ImageFolder(root='/cars/cars_test/', transform=transform)\n",
        "\n",
        "    # Split the training dataset into training and validation sets\n",
        "    train_len = int(0.8 * len(train_dataset))\n",
        "    val_len = len(train_dataset) - train_len\n",
        "\n",
        "    train_data, val_data = random_split(train_dataset, [train_len, val_len])\n",
        "\n",
        "    # Create DataLoaders\n",
        "    train_loader = DataLoader(train_data, batch_size=batch_size, shuffle=True)\n",
        "    val_loader = DataLoader(val_data, batch_size=batch_size, shuffle=False)\n",
        "    test_loader = DataLoader(test_dataset, batch_size=batch_size, shuffle=False)\n",
        "\n",
        "    return train_loader, val_loader, test_loader\n",
        "\n",
        "# Usage\n",
        "train_loader, val_loader, test_loader = load_data(batch_size=32)\n"
      ],
      "metadata": {
        "id": "kEBSZe_4zjbu"
      },
      "id": "kEBSZe_4zjbu",
      "execution_count": 5,
      "outputs": []
    },
    {
      "cell_type": "markdown",
      "id": "500f3258",
      "metadata": {
        "id": "500f3258"
      },
      "source": [
        "## Step 1. Neural network architecture"
      ]
    },
    {
      "cell_type": "code",
      "execution_count": 13,
      "id": "61f2552e",
      "metadata": {
        "id": "61f2552e"
      },
      "outputs": [],
      "source": [
        "import torch\n",
        "import torch.nn as nn\n",
        "\n",
        "class FireBlock(nn.Module):\n",
        "    def __init__(self, in_channels, squeeze_channels, expand1x1_channels, expand3x3_channels):\n",
        "        super(FireBlock, self).__init__()\n",
        "        self.squeeze = nn.Conv2d(in_channels, squeeze_channels, kernel_size=1)\n",
        "        self.expand1x1 = nn.Conv2d(squeeze_channels, expand1x1_channels, kernel_size=1)\n",
        "        self.expand3x3 = nn.Conv2d(squeeze_channels, expand3x3_channels, kernel_size=3, padding=1)\n",
        "\n",
        "    def forward(self, x):\n",
        "        squeezed = torch.relu(self.squeeze(x))\n",
        "        expanded1x1 = torch.relu(self.expand1x1(squeezed))\n",
        "        expanded3x3 = torch.relu(self.expand3x3(squeezed))\n",
        "        return torch.cat([expanded1x1, expanded3x3], 1)\n",
        "\n",
        "class SqueezeNet(nn.Module):\n",
        "    def __init__(self, num_classes=1000):\n",
        "        super(SqueezeNet, self).__init__()\n",
        "        self.features = nn.Sequential(\n",
        "            nn.Conv2d(3, 96, kernel_size=7, stride=2),\n",
        "            nn.ReLU(inplace=True),\n",
        "            nn.MaxPool2d(kernel_size=3, stride=2, ceil_mode=True),\n",
        "            FireBlock(96, 16, 64, 64),\n",
        "            FireBlock(128, 16, 64, 64),\n",
        "            FireBlock(128, 32, 128, 128),\n",
        "            nn.MaxPool2d(kernel_size=3, stride=2, ceil_mode=True),\n",
        "            FireBlock(256, 32, 128, 128),\n",
        "            FireBlock(256, 48, 192, 192),\n",
        "            FireBlock(384, 48, 192, 192),\n",
        "            FireBlock(384, 64, 256, 256),\n",
        "            nn.MaxPool2d(kernel_size=3, stride=2, ceil_mode=True),\n",
        "            FireBlock(512, 64, 256, 256),\n",
        "        )\n",
        "\n",
        "        self.classifier = nn.Sequential(\n",
        "            nn.Dropout(p=0.5),\n",
        "            nn.Conv2d(512, num_classes, kernel_size=1),\n",
        "            nn.ReLU(inplace=True),\n",
        "            nn.AdaptiveAvgPool2d((1, 1))\n",
        "        )\n",
        "\n",
        "    def forward(self, x):\n",
        "        x = self.features(x)\n",
        "        x = self.classifier(x)\n",
        "        return torch.flatten(x, 1)\n",
        "\n",
        "squeezenet = SqueezeNet()\n"
      ]
    },
    {
      "cell_type": "markdown",
      "id": "388f038c",
      "metadata": {
        "id": "388f038c"
      },
      "source": [
        "## Step 2.  Loss Function"
      ]
    },
    {
      "cell_type": "code",
      "execution_count": 14,
      "id": "77fe0ca2",
      "metadata": {
        "id": "77fe0ca2"
      },
      "outputs": [],
      "source": [
        "loss = nn.CrossEntropyLoss()"
      ]
    },
    {
      "cell_type": "markdown",
      "id": "ba386ab9",
      "metadata": {
        "id": "ba386ab9"
      },
      "source": [
        "## Step 3. Optimizer"
      ]
    },
    {
      "cell_type": "code",
      "execution_count": 16,
      "id": "987f9c81",
      "metadata": {
        "id": "987f9c81"
      },
      "outputs": [],
      "source": [
        "optim = torch.optim.Adam(squeezenet.parameters(), lr=0.0001)"
      ]
    },
    {
      "cell_type": "markdown",
      "id": "82663d98",
      "metadata": {
        "id": "82663d98"
      },
      "source": [
        "## Step 4. Train Loop"
      ]
    },
    {
      "cell_type": "code",
      "execution_count": null,
      "id": "dd0a1aac",
      "metadata": {
        "id": "dd0a1aac",
        "colab": {
          "base_uri": "https://localhost:8080/"
        },
        "outputId": "99a72e37-a4a8-46c8-e5a2-8256d3bf6a3f"
      },
      "outputs": [
        {
          "output_type": "stream",
          "name": "stdout",
          "text": [
            "Epoch [1/10], Step [1/204], Loss: 6.8984\n"
          ]
        }
      ],
      "source": [
        "num_epochs = 10\n",
        "\n",
        "for epoch in range(num_epochs):\n",
        "    total_loss = 0\n",
        "    correct_predictions = 0\n",
        "    total_samples = 0\n",
        "\n",
        "    for batch_size, (data, targets) in enumerate(train_loader):\n",
        "        optim.zero_grad()\n",
        "        outputs = squeezenet(data)\n",
        "        batch_loss = loss(outputs, targets)\n",
        "        batch_loss.backward()\n",
        "        optim.step()\n",
        "\n",
        "        total_loss += batch_loss.item()\n",
        "        _, predicted = outputs.max(1)\n",
        "        correct_predictions += predicted.eq(targets).sum().item()\n",
        "        total_samples += targets.size(0)\n",
        "\n",
        "        if batch_size % 10 == 0:\n",
        "            print(f'Epoch [{epoch + 1}/{num_epochs}], Step [{batch_size + 1}/{len(train_loader)}], Loss: {batch_loss.item():.4f}')\n",
        "\n",
        "    train_accuracy = correct_predictions / total_samples\n",
        "    average_train_loss = total_loss / len(train_loader)\n",
        "\n",
        "    print(f'Epoch [{epoch + 1}/{num_epochs}], Train Loss: {average_train_loss:.4f}, Train Accuracy: {train_accuracy:.4f}')\n",
        "\n"
      ]
    }
  ],
  "metadata": {
    "kernelspec": {
      "display_name": "Python 3 (ipykernel)",
      "language": "python",
      "name": "python3"
    },
    "language_info": {
      "codemirror_mode": {
        "name": "ipython",
        "version": 3
      },
      "file_extension": ".py",
      "mimetype": "text/x-python",
      "name": "python",
      "nbconvert_exporter": "python",
      "pygments_lexer": "ipython3",
      "version": "3.10.5"
    },
    "colab": {
      "provenance": []
    }
  },
  "nbformat": 4,
  "nbformat_minor": 5
}